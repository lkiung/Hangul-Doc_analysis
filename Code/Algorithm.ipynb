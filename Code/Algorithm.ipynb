{
 "cells": [
  {
   "cell_type": "markdown",
   "metadata": {},
   "source": [
    "# 1. Environment Setting"
   ]
  },
  {
   "cell_type": "markdown",
   "metadata": {},
   "source": [
    "## (1) Import Modules"
   ]
  },
  {
   "cell_type": "code",
   "execution_count": 1,
   "metadata": {
    "collapsed": true
   },
   "outputs": [],
   "source": [
    "import math\n",
    "import cv2\n",
    "import numpy as np\n",
    "import matplotlib.pyplot as plt\n",
    "%matplotlib inline"
   ]
  },
  {
   "cell_type": "markdown",
   "metadata": {},
   "source": [
    "## (2) Support Function for binalization"
   ]
  },
  {
   "cell_type": "markdown",
   "metadata": {},
   "source": [
    "### 1) OtsuThreshold"
   ]
  },
  {
   "cell_type": "code",
   "execution_count": 2,
   "metadata": {
    "collapsed": true
   },
   "outputs": [],
   "source": [
    "def OtsuThreshold(img):\n",
    "    maxval = np.max(img)\n",
    "    vectimg = np.reshape(img,[img.shape[0]*img.shape[1],])\n",
    "    histData = np.uint8(np.zeros([maxval+1,1]))\n",
    "    for i in vectimg:\n",
    "        histData[i]=histData[i]+1\n",
    "    \n",
    "    total = vectimg.shape[0]\n",
    "    sum_ = 0\n",
    "    for i in range(256): \n",
    "        sum_ = sum_+ i*histData[i]\n",
    "        \n",
    "    sumB = 0\n",
    "    wB = 0\n",
    "    wF = 0\n",
    "    varMax = (float)(0)\n",
    "    threshold = 0;\n",
    "    for i in range(256):\n",
    "        wB = wB + histData[i]\n",
    "        if(wB==0):\n",
    "            continue\n",
    "        wF = total-wB;\n",
    "        if(wF==0):\n",
    "            break\n",
    "        sumB = sumB + i*histData[i]\n",
    "        mB = sumB/(float)(wB)\n",
    "        mF = (sum_-sumB)/(float)(wF)\n",
    "        varBetween = wB*wF*(mB-mF)*(mB-mF)\n",
    "        if(varBetween>varMax):\n",
    "            varMax = varBetween\n",
    "            threshold = i\n",
    "    binaryim = np.uint8(np.zeros(img.shape))\n",
    "    binaryim[img>threshold] = 255;\n",
    "    return binaryim"
   ]
  },
  {
   "cell_type": "markdown",
   "metadata": {},
   "source": [
    "### 2) C-means Clustering"
   ]
  },
  {
   "cell_type": "code",
   "execution_count": 3,
   "metadata": {
    "collapsed": true
   },
   "outputs": [],
   "source": [
    "# Function based C_means Clustering\n",
    "def LUT2label(im,LUT):\n",
    "    Imin = np.min(im)\n",
    "    Imax = np.max(im)\n",
    "    I =np.array(range(Imin,Imax+1))\n",
    "    I = I.reshape([I.shape[0],1])\n",
    "    L = np.zeros([im.shape[0],im.shape[1]],dtype=int)\n",
    "    for k in range(np.max(LUT)+1):\n",
    "        i = np.where(LUT==k)[0]\n",
    "        i1 = int(i[0])\n",
    "        \n",
    "        if(i.size>1):\n",
    "            i2=int(i[-1])\n",
    "        else:\n",
    "            i2=i1\n",
    "        \n",
    "        bw = np.where((im>I[i1]) & (im<I[i2]))\n",
    "        for j in range(bw[0].size):\n",
    "            L[bw[0][j],bw[1][j]] = k\n",
    "\n",
    "    return L\n",
    " \n",
    "# C_means Clustering    \n",
    "def FastCmeans(im,c=2):\n",
    "    Imin = np.min(im)\n",
    "    Imax = np.max(im)\n",
    "    I =np.array(range(Imin,Imax+1))\n",
    "    I = I.reshape([I.shape[0],1])\n",
    "    H = np.zeros([I.shape[0],1],dtype=int)\n",
    "    k = im.shape[0]*im.shape[1]\n",
    "    imshap =im.shape\n",
    "    im = im.reshape([im.shape[0]*im.shape[1],1])\n",
    "    for i in range(k):\n",
    "        H[im[i]-Imin]=H[im[i]-Imin]+1 \n",
    "        \n",
    "    dl=(Imax-Imin)/c\n",
    "    C=np.arange(Imin+dl/2,Imax,dl)\n",
    "    IH = np.multiply(H,I)\n",
    "    dC = float(\"inf\")\n",
    "    \n",
    "    while(dC>1e-6):\n",
    "        C0 =C\n",
    "        D = np.ndarray([I.shape[0],0])\n",
    "        for i in range(C.shape[0]):\n",
    "            D = np.concatenate((D,np.subtract(I,C[i])),axis=1)\n",
    "        \n",
    "        D = np.abs(D)\n",
    "        LUT = np.argmin(D,axis=1)\n",
    "        C = np.double(C)\n",
    "        for i in(range(c)):\n",
    "            C[i]=np.sum(np.uint(IH[LUT==i]))/np.sum(np.uint(H[LUT==i]))\n",
    "            \n",
    "        dC = np.max(np.abs(np.subtract(C,C0))) \n",
    "\n",
    "    L =LUT2label(im,LUT)\n",
    "    L = L.reshape(imshap)\n",
    "    return L"
   ]
  },
  {
   "cell_type": "markdown",
   "metadata": {},
   "source": [
    "## (2) Read Test Image"
   ]
  },
  {
   "cell_type": "code",
   "execution_count": 4,
   "metadata": {},
   "outputs": [
    {
     "data": {
      "image/png": "[encoded data removed]",
      "text/plain": [
       "<matplotlib.figure.Figure at 0x9968860>"
      ]
     },
     "metadata": {},
     "output_type": "display_data"
    }
   ],
   "source": [
    "imag = cv2.imread(\"Test2.jpg\",0)\n",
    "imag = cv2.resize(imag,(imag.shape[1]/4,imag.shape[0]/4),interpolation=cv2.INTER_CUBIC)\n",
    "plt.imshow(imag,'gray')\n",
    "plt.show()"
   ]
  },
  {
   "cell_type": "markdown",
   "metadata": {},
   "source": [
    "# 2. Preprocessing"
   ]
  },
  {
   "cell_type": "markdown",
   "metadata": {},
   "source": [
    "## (1) Reverse Image for Morphism"
   ]
  },
  {
   "cell_type": "code",
   "execution_count": 5,
   "metadata": {
    "scrolled": true
   },
   "outputs": [
    {
     "data": {
      "image/png": "[encoded data removed]",
      "text/plain": [
       "<matplotlib.figure.Figure at 0x9f410f0>"
      ]
     },
     "metadata": {},
     "output_type": "display_data"
    }
   ],
   "source": [
    "imag = np.uint8(np.ones(imag.shape)*255-imag)\n",
    "rows,cols= imag.shape\n",
    "plt.imshow(imag,cmap='gray')\n",
    "plt.xticks([])\n",
    "plt.yticks([])\n",
    "plt.show()"
   ]
  },
  {
   "cell_type": "markdown",
   "metadata": {},
   "source": [
    "## (2) Binalization"
   ]
  },
  {
   "cell_type": "markdown",
   "metadata": {},
   "source": [
    "### 1) Fast-Cmeans clustering"
   ]
  },
  {
   "cell_type": "code",
   "execution_count": 6,
   "metadata": {},
   "outputs": [
    {
     "data": {
      "image/png": "[encoded data removed]",
      "text/plain": [
       "<matplotlib.figure.Figure at 0xa543e48>"
      ]
     },
     "metadata": {},
     "output_type": "display_data"
    }
   ],
   "source": [
    "L = FastCmeans(imag)\n",
    "onenum = np.where(L==1)[0].size\n",
    "zeronum = np.where(L==0)[0].size\n",
    "if(onenum>zeronum):\n",
    "    L=np.ones(L.shape)- L\n",
    "Cmeans = np.float32(np.multiply(L,255))\n",
    "\n",
    "plt.imshow(Cmeans,'gray')\n",
    "#plt.title('Fast-Cmeans Clustering')\n",
    "plt.xticks([])\n",
    "plt.yticks([])\n",
    "plt.show()"
   ]
  },
  {
   "cell_type": "markdown",
   "metadata": {},
   "source": [
    "### 2) Otsu-Threshold"
   ]
  },
  {
   "cell_type": "code",
   "execution_count": 7,
   "metadata": {
    "scrolled": true
   },
   "outputs": [
    {
     "data": {
      "image/png": "[encoded data removed]",
      "text/plain": [
       "<matplotlib.figure.Figure at 0x9e963c8>"
      ]
     },
     "metadata": {},
     "output_type": "display_data"
    }
   ],
   "source": [
    "Otsuimag = OtsuThreshold(imag)\n",
    "plt.imshow(Otsuimag,'gray')\n",
    "#plt.title('OtsuThreshold')\n",
    "plt.xticks([])\n",
    "plt.yticks([])    \n",
    "plt.show()"
   ]
  },
  {
   "cell_type": "markdown",
   "metadata": {},
   "source": [
    "### 3) Adaptive Gaussian Threshold"
   ]
  },
  {
   "cell_type": "code",
   "execution_count": 8,
   "metadata": {},
   "outputs": [
    {
     "data": {
      "image/png": "[encoded data removed]",
      "text/plain": [
       "<matplotlib.figure.Figure at 0xa4a1ac8>"
      ]
     },
     "metadata": {},
     "output_type": "display_data"
    }
   ],
   "source": [
    "gaussian = cv2.adaptiveThreshold(np.uint8(np.ones(imag.shape)*255-imag),255,cv2.ADAPTIVE_THRESH_GAUSSIAN_C,cv2.THRESH_BINARY,11,2)\n",
    "gaussian = np.ones(gaussian.shape)*255-gaussian\n",
    "plt.imshow(gaussian,'gray')\n",
    "#plt.title('Adaptive Gaussain Threshold')\n",
    "plt.xticks([])\n",
    "plt.yticks([])\n",
    "plt.show()"
   ]
  },
  {
   "cell_type": "markdown",
   "metadata": {},
   "source": [
    "## (3) Closing For Binary Image"
   ]
  },
  {
   "cell_type": "code",
   "execution_count": 9,
   "metadata": {},
   "outputs": [
    {
     "data": {
      "image/png": "[encoded data removed]",
      "text/plain": [
       "<matplotlib.figure.Figure at 0xaafe320>"
      ]
     },
     "metadata": {},
     "output_type": "display_data"
    }
   ],
   "source": [
    "kernel = np.ones((5,5),np.uint8)\n",
    "\n",
    "Otsu_closing = cv2.morphologyEx(Otsuimag,cv2.MORPH_CLOSE,kernel)\n",
    "\n",
    "\n",
    "images = [Otsuimag,Otsu_closing]\n",
    "titles = ['Otsu Before','Otsu After']\n",
    "plt.figure(figsize=(10,6))\n",
    "for i in range(2):\n",
    "    plt.subplot(2,1,i+1)\n",
    "    plt.imshow(images[i],'gray')\n",
    "    plt.title(titles[i])\n",
    "    plt.xticks([])\n",
    "    plt.yticks([])\n",
    "    \n",
    "plt.show()"
   ]
  },
  {
   "cell_type": "code",
   "execution_count": 10,
   "metadata": {},
   "outputs": [
    {
     "data": {
      "image/png": "[encoded data removed]",
      "text/plain": [
       "<matplotlib.figure.Figure at 0xa4a1080>"
      ]
     },
     "metadata": {},
     "output_type": "display_data"
    }
   ],
   "source": [
    "kernel = np.ones((5,5),np.uint8)\n",
    "Gaussian_closing = cv2.morphologyEx(gaussian,cv2.MORPH_CLOSE,kernel)\n",
    "images = [gaussian,Gaussian_closing]\n",
    "titles = ['Gaussian Before','Gaussian After']\n",
    "plt.figure(figsize=(10,6))\n",
    "for i in range(2):\n",
    "    plt.subplot(2,1,i+1)\n",
    "    plt.imshow(images[i],'gray')\n",
    "    plt.title(titles[i])\n",
    "    plt.xticks([])\n",
    "    plt.yticks([])\n",
    "    \n",
    "plt.show()"
   ]
  },
  {
   "cell_type": "markdown",
   "metadata": {},
   "source": [
    "# 3. Text-line Segmentation"
   ]
  },
  {
   "cell_type": "markdown",
   "metadata": {},
   "source": [
    "## Find strip-width"
   ]
  },
  {
   "cell_type": "code",
   "execution_count": 11,
   "metadata": {
    "collapsed": true
   },
   "outputs": [],
   "source": [
    "binaryimg = np.uint8(Otsu_closing/255)\n",
    "imagesum = np.sum(binaryimg)/(float)(rows*cols)\n",
    "stripwidth = 0\n",
    "if(imagesum>=0.2):\n",
    "    stripwidth = 0.05*cols\n",
    "elif(imagesum>0.1):\n",
    "    stripwidth = 0.1*cols\n",
    "else:\n",
    "    stripwidth = 0.25*cols\n",
    "\n",
    "stripwidth = int(math.ceil(stripwidth))"
   ]
  },
  {
   "cell_type": "code",
   "execution_count": 12,
   "metadata": {},
   "outputs": [
    {
     "data": {
      "text/plain": [
       "3.0"
      ]
     },
     "execution_count": 12,
     "metadata": {},
     "output_type": "execute_result"
    }
   ],
   "source": [
    "math.floor(cols/stripwidth)"
   ]
  },
  {
   "cell_type": "markdown",
   "metadata": {},
   "source": [
    "## Projection to y axis"
   ]
  },
  {
   "cell_type": "code",
   "execution_count": 13,
   "metadata": {
    "collapsed": true,
    "scrolled": true
   },
   "outputs": [],
   "source": [
    "proj = np.zeros([rows,int(math.ceil(cols/(float)(stripwidth)))])\n",
    "rangemat = range(0,cols,stripwidth)\n",
    "for i in xrange(0,cols/stripwidth):\n",
    "    proj[:,i]=np.sum(Otsu_closing[:,rangemat[i]:rangemat[i]+stripwidth-1],axis=1)    \n",
    "    \n",
    "proj[:,-1] = np.uint(np.sum(Otsu_closing[:,rangemat[i+1]:],axis=1))\n",
    "\n",
    "proj2 = np.zeros([proj.shape[0]+9,proj.shape[1]])\n",
    "proj2[4:-5,:]= proj\n",
    "for i in range(rows):\n",
    "    proj[i,:] = np.sum(proj2[i-4:i+5,:],axis=0)\n",
    "    \n",
    "proj = proj/9\n",
    "x = range(proj.shape[0])\n",
    "alpha = 10;\n",
    "\n",
    "threshold = np.sum(proj,axis = 0)/(alpha*rows)\n",
    "\n"
   ]
  },
  {
   "cell_type": "markdown",
   "metadata": {},
   "source": [
    "## result of Adjust Threshold"
   ]
  },
  {
   "cell_type": "code",
   "execution_count": 14,
   "metadata": {},
   "outputs": [
    {
     "data": {
      "image/png": "[encoded data removed]",
      "text/plain": [
       "<matplotlib.figure.Figure at 0xa49ae10>"
      ]
     },
     "metadata": {},
     "output_type": "display_data"
    }
   ],
   "source": [
    "for i in xrange(len(rangemat)):\n",
    "    plt.subplot(1,len(rangemat),i+1)\n",
    "    plt.plot(proj[:,i],x)\n",
    "    plt.plot(np.ones(proj[:,i].shape)*threshold[i],x,'r-')\n",
    "    plt.xticks([])\n",
    "    plt.yticks([])\n",
    "plt.show()"
   ]
  },
  {
   "cell_type": "markdown",
   "metadata": {},
   "source": [
    "## Calculate Above Boundary and Below Boundary"
   ]
  },
  {
   "cell_type": "code",
   "execution_count": 15,
   "metadata": {
    "collapsed": true
   },
   "outputs": [],
   "source": [
    "AB = np.array([])\n",
    "BB = np.array([])\n",
    "\n",
    "for j in range(rows):\n",
    "    if(proj[j,0]>threshold[0] and proj[j-1,0]<=threshold[0]):\n",
    "        AB = np.concatenate((AB,[j-2]))\n",
    "    if(proj[j,0]>threshold[0] and proj[j+1,0]<=threshold[0]):\n",
    "        BB = np.concatenate((BB,[j+2]))\n",
    "\n",
    "BBi = np.uint8(np.zeros(BB.shape))\n",
    "ABi = np.uint8(np.ones(AB.shape)*rows)\n",
    "        \n",
    "for i in range(1,len(rangemat)):\n",
    "    BBi = np.zeros(BBi.shape)\n",
    "    ABi = np.ones(ABi.shape)*rows\n",
    "    A_i = 0\n",
    "    B_i = 0\n",
    "    for j in range(rows):\n",
    "        if(proj[j,i]>threshold[i] and proj[j-1,i]<=threshold[i]):\n",
    "            ABi[A_i] = j-2\n",
    "            A_i += 1\n",
    "        if(proj[j,i]>threshold[i] and proj[j+1,i]<=threshold[i]):\n",
    "            BBi[B_i] = j+2\n",
    "            B_i += 1\n",
    "            \n",
    "    AB = np.vstack((AB,ABi))\n",
    "    BB = np.vstack((BB,BBi))\n"
   ]
  },
  {
   "cell_type": "markdown",
   "metadata": {},
   "source": [
    "## Seperate TextLine"
   ]
  },
  {
   "cell_type": "code",
   "execution_count": 16,
   "metadata": {
    "collapsed": true
   },
   "outputs": [],
   "source": [
    "D = np.sum((np.abs(np.subtract(AB,BB))))/AB.nonzero()[0].shape[0]\n",
    "#\n",
    "#AB = AB.reshape([len(rangemat),AB.shape[0]/len(rangemat)])\n",
    "#BB = BB.reshape([len(rangemat),BB.shape[0]/len(rangemat)])\n",
    "\n",
    "minAB = np.uint8(np.min(AB,axis=0))\n",
    "maxBB = np.uint8(np.max(BB,axis=0))\n",
    "linenum = maxBB.shape[0]\n",
    "rowmax = np.max(maxBB-minAB)\n",
    "\n",
    "image_sep = np.uint8(np.zeros([linenum,rowmax,cols]))\n",
    "image_sepb = np.uint8(np.zeros([linenum,rowmax,cols]))\n",
    "\n",
    "AB = np.uint8(AB)\n",
    "BB = np.uint8(BB)\n",
    "for i in range(linenum):\n",
    "    for j in range(len(rangemat)):\n",
    "        image_sep[i,AB[j,i]-minAB[i]:BB[j,i]-minAB[i],rangemat[j]:rangemat[j]+stripwidth-1] = imag[AB[j,i]:BB[j,i],rangemat[j]:rangemat[j]+stripwidth-1]\n",
    "        image_sepb[i,AB[j,i]-minAB[i]:BB[j,i]-minAB[i],rangemat[j]:rangemat[j]+stripwidth-1] = Otsuimag[AB[j,i]:BB[j,i],rangemat[j]:rangemat[j]+stripwidth-1]\n"
   ]
  },
  {
   "cell_type": "markdown",
   "metadata": {},
   "source": [
    "### Result"
   ]
  },
  {
   "cell_type": "code",
   "execution_count": 17,
   "metadata": {},
   "outputs": [
    {
     "data": {
      "image/png": "[encoded data removed]",
      "text/plain": [
       "<matplotlib.figure.Figure at 0xaac87f0>"
      ]
     },
     "metadata": {},
     "output_type": "display_data"
    }
   ],
   "source": [
    "for i in range(image_sep.shape[0]):\n",
    "        plt.subplot(image_sep.shape[0],1,i+1)\n",
    "        plt.imshow(image_sep[i,:,:],'gray')\n",
    "        plt.xticks([])\n",
    "        plt.yticks([])\n",
    "\n",
    "plt.show()"
   ]
  },
  {
   "cell_type": "markdown",
   "metadata": {},
   "source": [
    "# Coarse Segmentation with SWT"
   ]
  },
  {
   "cell_type": "markdown",
   "metadata": {},
   "source": [
    "## Stroke Width Transform"
   ]
  },
  {
   "cell_type": "code",
   "execution_count": 18,
   "metadata": {
    "collapsed": true
   },
   "outputs": [],
   "source": [
    "def swt(source):\n",
    "    result = cv2.distanceTransform(source,cv2.cv.CV_DIST_L2,5)\n",
    "    minVal,maxVal,minLoc,maxLoc=cv2.minMaxLoc(result)\n",
    "    strokeradius = np.uint8(np.ceil(maxVal))\n",
    "    kernel = cv2.getStructuringElement(cv2.MORPH_RECT,(3,3))\n",
    "    for i in xrange(strokeradius):\n",
    "        result=cv2.dilate(result,kernel)\n",
    "        result = np.multiply(result,source)\n",
    "    \n",
    "    return result"
   ]
  },
  {
   "cell_type": "markdown",
   "metadata": {},
   "source": [
    "Ge Target and AW"
   ]
  },
  {
   "cell_type": "code",
   "execution_count": 19,
   "metadata": {
    "collapsed": true
   },
   "outputs": [],
   "source": [
    "target = image_sepb[0,:,:]/255"
   ]
  },
  {
   "cell_type": "code",
   "execution_count": 20,
   "metadata": {
    "collapsed": true
   },
   "outputs": [],
   "source": [
    "swt_image = swt(np.uint8(target))"
   ]
  },
  {
   "cell_type": "code",
   "execution_count": 21,
   "metadata": {
    "collapsed": true,
    "scrolled": true
   },
   "outputs": [],
   "source": [
    "AW = np.sum(swt_image)/np.sum(target)"
   ]
  },
  {
   "cell_type": "markdown",
   "metadata": {},
   "source": [
    "y projection with target_closing image and divide it  by AW"
   ]
  },
  {
   "cell_type": "code",
   "execution_count": 22,
   "metadata": {
    "collapsed": true
   },
   "outputs": [],
   "source": [
    "target_c =  cv2.morphologyEx(target,cv2.MORPH_CLOSE,kernel)\n",
    "y_proj = np.sum(target_c,axis=0)\n",
    "\n",
    "y_proj2 = np.zeros([y_proj.shape[0]+5,])"
   ]
  },
  {
   "cell_type": "code",
   "execution_count": 23,
   "metadata": {
    "collapsed": true
   },
   "outputs": [],
   "source": [
    "cols = target.shape[0]\n",
    "rows = target.shape[1]\n",
    "y_proj2[2:-3] = y_proj\n",
    "for i in range(rows):\n",
    "    y_proj[i] = np.sum(y_proj2[i-2:i+3])/5 # smoothing projection"
   ]
  },
  {
   "cell_type": "markdown",
   "metadata": {},
   "source": [
    "Result for Coarse Segmentation using AW"
   ]
  },
  {
   "cell_type": "code",
   "execution_count": 24,
   "metadata": {},
   "outputs": [
    {
     "data": {
      "image/png": "[encoded data removed]",
      "text/plain": [
       "<matplotlib.figure.Figure at 0xa799fd0>"
      ]
     },
     "metadata": {},
     "output_type": "display_data"
    }
   ],
   "source": [
    "plt.plot(xrange(y_proj.shape[0]),np.ones(y_proj.shape)*round(AW),'r-')\n",
    "plt.plot(xrange(y_proj.shape[0]),y_proj,'b')\n",
    "plt.show()\n"
   ]
  },
  {
   "cell_type": "markdown",
   "metadata": {},
   "source": [
    "Fine Segmentation process with Labeling"
   ]
  },
  {
   "cell_type": "code",
   "execution_count": 25,
   "metadata": {
    "collapsed": true
   },
   "outputs": [],
   "source": [
    "RB = 0\n",
    "LB = 0\n",
    "target[:,np.where(y_proj<round(AW))[0]] = 0\n",
    "RowBoundary = np.where(y_proj<round(AW))[0]\n",
    "componentlabel =0\n",
    "changeflag = np.zeros([2,],np.uint8)"
   ]
  },
  {
   "cell_type": "code",
   "execution_count": 26,
   "metadata": {
    "collapsed": true
   },
   "outputs": [],
   "source": [
    "from skimage import measure"
   ]
  },
  {
   "cell_type": "code",
   "execution_count": 27,
   "metadata": {},
   "outputs": [
    {
     "name": "stdout",
     "output_type": "stream",
     "text": [
      "Lmin is 47 \n",
      "Lmin is 49 \n",
      "Lmin is 81 \n",
      "Lmin is 84 \n",
      "Lmin is 89 \n",
      "Lmin is 92 \n",
      "Lmin is 120 \n",
      "Lmin is 122 \n",
      "Lmin is 127 \n",
      "Lmin is 130 \n"
     ]
    }
   ],
   "source": [
    "for i in xrange(1,len(RowBoundary)-1):\n",
    "    if(RowBoundary[i]+1 != RowBoundary[i+1]):\n",
    "        if(RB != RowBoundary[i]):\n",
    "            changeflag[0] = 1\n",
    "            RB = RowBoundary[i]\n",
    "    if(RowBoundary[i]-1 != RowBoundary[i-1]):\n",
    "        if(LB != RowBoundary[i]):\n",
    "            changeflag[1] = 1\n",
    "            LB = RowBoundary[i]\n",
    "    if((RB<LB)&(np.sum(changeflag)==2)):\n",
    "        print(\"Lmin is %d \" %i)\n",
    "        changeflag= changeflag*0\n",
    "        tempimg = target[:,RB:LB]\n",
    "        L = measure.label(tempimg)\n",
    "        L[L!=0] +=componentlabel\n",
    "        for j in xrange(L.min()+1,L.max()+1):\n",
    "            tempcomp =set(np.where(L==j)[1])\n",
    "            if(np.where(L==j)[1].shape[0]<=20):  ## denoise small component\n",
    "                L[L==j] = 0\n",
    "            else:\n",
    "                componentlabel +=1\n",
    "                L[L==j] = componentlabel\n",
    "                for k in xrange(j+1,L.max()+1):\n",
    "                    tempcomp2 = set(np.where(L==k)[1])\n",
    "                    if(len(tempcomp)*2./3 < len((tempcomp&tempcomp2))):  ## if projection area is overlapped more than 2/3, merege component\n",
    "                        L[L==k]=componentlabel        \n",
    "        target[:,RB:LB]=L\n"
   ]
  },
  {
   "cell_type": "code",
   "execution_count": 28,
   "metadata": {},
   "outputs": [
    {
     "data": {
      "image/png": "[encoded data removed]",
      "text/plain": [
       "<matplotlib.figure.Figure at 0xa4cdfd0>"
      ]
     },
     "metadata": {},
     "output_type": "display_data"
    }
   ],
   "source": [
    "plt.figure(figsize=(10,6))\n",
    "plt.imshow(target, aspect='auto', interpolation='none') ## result of fine segmentation\n",
    "plt.xticks([])\n",
    "plt.yticks([])\n",
    "plt.colorbar()\n",
    "plt.show()"
   ]
  },
  {
   "cell_type": "markdown",
   "metadata": {},
   "source": [
    "help funcion to show fine segmentation"
   ]
  },
  {
   "cell_type": "code",
   "execution_count": 29,
   "metadata": {
    "collapsed": true
   },
   "outputs": [],
   "source": [
    "def textshow(i,target):\n",
    "    tempimg = np.zeros(target.shape)\n",
    "    tempimg[target==i]=255\n",
    "    plt.imshow(tempimg,aspect='auto')"
   ]
  },
  {
   "cell_type": "markdown",
   "metadata": {},
   "source": [
    "# Merge  component with Wierd Clustering"
   ]
  },
  {
   "cell_type": "code",
   "execution_count": 30,
   "metadata": {
    "collapsed": true
   },
   "outputs": [],
   "source": [
    "from sklearn import metrics\n",
    "\n",
    "classnum = target.max()\n",
    "gapdist= np.ones([classnum,3])*1000\n",
    "\n",
    "\n",
    "for i in xrange(1,classnum+1):\n",
    "    for j in xrange(1,classnum+1):\n",
    "        if(j!=i):\n",
    "            Xcenter = [[np.sum(np.where(target==i)[0])/np.where(target==i)[0].shape[0],np.sum(np.where(target==i)[1])/np.where(target==i)[0].shape[0]]]\n",
    "            Ycenter = [[np.sum(np.where(target==j)[0])/np.where(target==j)[0].shape[0],np.sum(np.where(target==j)[1])/np.where(target==j)[0].shape[0]]]\n",
    "            eucmetmin = metrics.pairwise.euclidean_distances(Xcenter,Ycenter).min()\n",
    "            if(eucmetmin<gapdist[i-1,1]):\n",
    "                gapdist[i-1,0] = j\n",
    "                gapdist[i-1,1] = eucmetmin\n",
    "                gapdist[i-1,2] = np.where(target==i)[0].shape[0] + np.where(target==j)[0].shape[0]\n",
    "\n",
    "from sklearn import cluster                \n",
    "model = cluster.AgglomerativeClustering()\n",
    "pred=model.fit_predict(gapdist[:,1:])\n",
    "componentlabel =0\n",
    "target_d = target\n",
    "\n",
    "for i in xrange(pred.shape[0]):\n",
    "    if((pred[i]==0)&(gapdist[(int)(gapdist[i,0]-1),0] == i+1)):\n",
    "        if(i+1>gapdist[i,0]):\n",
    "            componentlabel+=1\n",
    "            target_d[target_d == i+1] = componentlabel\n",
    "            target_d[target_d == gapdist[i,0]] = componentlabel \n",
    "    else:\n",
    "        componentlabel+=1\n",
    "        target_d[target_d==i+1] = componentlabel\n",
    "        "
   ]
  },
  {
   "cell_type": "code",
   "execution_count": 36,
   "metadata": {},
   "outputs": [
    {
     "data": {
      "image/png": "[encoded data removed]",
      "text/plain": [
       "<matplotlib.figure.Figure at 0xdbef240>"
      ]
     },
     "metadata": {},
     "output_type": "display_data"
    }
   ],
   "source": [
    "textshow(6,target_d)"
   ]
  }
 ],
 "metadata": {
  "anaconda-cloud": {},
  "kernelspec": {
   "display_name": "Python 2",
   "language": "python",
   "name": "python2"
  },
  "language_info": {
   "codemirror_mode": {
    "name": "ipython",
    "version": 2
   },
   "file_extension": ".py",
   "mimetype": "text/x-python",
   "name": "python",
   "nbconvert_exporter": "python",
   "pygments_lexer": "ipython2",
   "version": "2.7.14"
  }
 },
 "nbformat": 4,
 "nbformat_minor": 2
}
